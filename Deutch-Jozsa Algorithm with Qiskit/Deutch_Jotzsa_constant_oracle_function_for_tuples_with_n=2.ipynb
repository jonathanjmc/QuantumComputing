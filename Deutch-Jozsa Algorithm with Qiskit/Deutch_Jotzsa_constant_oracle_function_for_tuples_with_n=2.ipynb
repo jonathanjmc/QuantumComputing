{
  "nbformat": 4,
  "nbformat_minor": 0,
  "metadata": {
    "colab": {
      "provenance": []
    },
    "kernelspec": {
      "name": "python3",
      "display_name": "Python 3"
    },
    "language_info": {
      "name": "python"
    }
  },
  "cells": [
    {
      "cell_type": "code",
      "execution_count": null,
      "metadata": {
        "colab": {
          "base_uri": "https://localhost:8080/"
        },
        "id": "oE00FKt5fcgS",
        "outputId": "8a7f9d57-2dc8-4641-c725-931db2fdcaaf"
      },
      "outputs": [
        {
          "output_type": "stream",
          "name": "stdout",
          "text": [
            "Looking in indexes: https://pypi.org/simple, https://us-python.pkg.dev/colab-wheels/public/simple/\n",
            "Collecting qiskit\n",
            "  Downloading qiskit-0.39.3.tar.gz (13 kB)\n",
            "Collecting qiskit-terra==0.22.3\n",
            "  Downloading qiskit_terra-0.22.3-cp37-cp37m-manylinux_2_17_x86_64.manylinux2014_x86_64.whl (4.8 MB)\n",
            "\u001b[K     |████████████████████████████████| 4.8 MB 4.9 MB/s \n",
            "\u001b[?25hCollecting qiskit-aer==0.11.1\n",
            "  Downloading qiskit_aer-0.11.1-cp37-cp37m-manylinux_2_17_x86_64.manylinux2014_x86_64.whl (19.2 MB)\n",
            "\u001b[K     |████████████████████████████████| 19.2 MB 1.3 MB/s \n",
            "\u001b[?25hCollecting qiskit-ibmq-provider==0.19.2\n",
            "  Downloading qiskit_ibmq_provider-0.19.2-py3-none-any.whl (240 kB)\n",
            "\u001b[K     |████████████████████████████████| 240 kB 45.8 MB/s \n",
            "\u001b[?25hRequirement already satisfied: scipy>=1.0 in /usr/local/lib/python3.7/dist-packages (from qiskit-aer==0.11.1->qiskit) (1.7.3)\n",
            "Requirement already satisfied: numpy>=1.16.3 in /usr/local/lib/python3.7/dist-packages (from qiskit-aer==0.11.1->qiskit) (1.21.6)\n",
            "Requirement already satisfied: urllib3>=1.21.1 in /usr/local/lib/python3.7/dist-packages (from qiskit-ibmq-provider==0.19.2->qiskit) (1.24.3)\n",
            "Collecting websocket-client>=1.0.1\n",
            "  Downloading websocket_client-1.4.2-py3-none-any.whl (55 kB)\n",
            "\u001b[K     |████████████████████████████████| 55 kB 3.0 MB/s \n",
            "\u001b[?25hCollecting requests-ntlm>=1.1.0\n",
            "  Downloading requests_ntlm-1.1.0-py2.py3-none-any.whl (5.7 kB)\n",
            "Collecting websockets>=10.0\n",
            "  Downloading websockets-10.4-cp37-cp37m-manylinux_2_5_x86_64.manylinux1_x86_64.manylinux_2_17_x86_64.manylinux2014_x86_64.whl (106 kB)\n",
            "\u001b[K     |████████████████████████████████| 106 kB 44.5 MB/s \n",
            "\u001b[?25hRequirement already satisfied: python-dateutil>=2.8.0 in /usr/local/lib/python3.7/dist-packages (from qiskit-ibmq-provider==0.19.2->qiskit) (2.8.2)\n",
            "Requirement already satisfied: requests>=2.19 in /usr/local/lib/python3.7/dist-packages (from qiskit-ibmq-provider==0.19.2->qiskit) (2.23.0)\n",
            "Requirement already satisfied: psutil>=5 in /usr/local/lib/python3.7/dist-packages (from qiskit-terra==0.22.3->qiskit) (5.4.8)\n",
            "Requirement already satisfied: importlib-metadata<5.0 in /usr/local/lib/python3.7/dist-packages (from qiskit-terra==0.22.3->qiskit) (4.13.0)\n",
            "Collecting stevedore>=3.0.0\n",
            "  Downloading stevedore-3.5.2-py3-none-any.whl (50 kB)\n",
            "\u001b[K     |████████████████████████████████| 50 kB 5.8 MB/s \n",
            "\u001b[?25hCollecting symengine>=0.9\n",
            "  Downloading symengine-0.9.2-cp37-cp37m-manylinux2010_x86_64.whl (37.5 MB)\n",
            "\u001b[K     |████████████████████████████████| 37.5 MB 39 kB/s \n",
            "\u001b[?25hCollecting ply>=3.10\n",
            "  Downloading ply-3.11-py2.py3-none-any.whl (49 kB)\n",
            "\u001b[K     |████████████████████████████████| 49 kB 5.3 MB/s \n",
            "\u001b[?25hRequirement already satisfied: typing-extensions in /usr/local/lib/python3.7/dist-packages (from qiskit-terra==0.22.3->qiskit) (4.1.1)\n",
            "Collecting tweedledum<2.0,>=1.1\n",
            "  Downloading tweedledum-1.1.1-cp37-cp37m-manylinux_2_12_x86_64.manylinux2010_x86_64.whl (943 kB)\n",
            "\u001b[K     |████████████████████████████████| 943 kB 51.1 MB/s \n",
            "\u001b[?25hCollecting retworkx>=0.11.0\n",
            "  Downloading retworkx-0.12.1-py3-none-any.whl (10 kB)\n",
            "Requirement already satisfied: sympy>=1.3 in /usr/local/lib/python3.7/dist-packages (from qiskit-terra==0.22.3->qiskit) (1.7.1)\n",
            "Requirement already satisfied: dill>=0.3 in /usr/local/lib/python3.7/dist-packages (from qiskit-terra==0.22.3->qiskit) (0.3.6)\n",
            "Collecting shared-memory38\n",
            "  Downloading shared_memory38-0.1.2-cp37-cp37m-manylinux_2_5_x86_64.manylinux1_x86_64.whl (25 kB)\n",
            "Requirement already satisfied: zipp>=0.5 in /usr/local/lib/python3.7/dist-packages (from importlib-metadata<5.0->qiskit-terra==0.22.3->qiskit) (3.10.0)\n",
            "Requirement already satisfied: six>=1.5 in /usr/local/lib/python3.7/dist-packages (from python-dateutil>=2.8.0->qiskit-ibmq-provider==0.19.2->qiskit) (1.15.0)\n",
            "Requirement already satisfied: certifi>=2017.4.17 in /usr/local/lib/python3.7/dist-packages (from requests>=2.19->qiskit-ibmq-provider==0.19.2->qiskit) (2022.9.24)\n",
            "Requirement already satisfied: chardet<4,>=3.0.2 in /usr/local/lib/python3.7/dist-packages (from requests>=2.19->qiskit-ibmq-provider==0.19.2->qiskit) (3.0.4)\n",
            "Requirement already satisfied: idna<3,>=2.5 in /usr/local/lib/python3.7/dist-packages (from requests>=2.19->qiskit-ibmq-provider==0.19.2->qiskit) (2.10)\n",
            "Collecting ntlm-auth>=1.0.2\n",
            "  Downloading ntlm_auth-1.5.0-py2.py3-none-any.whl (29 kB)\n",
            "Collecting cryptography>=1.3\n",
            "  Downloading cryptography-38.0.4-cp36-abi3-manylinux_2_24_x86_64.whl (4.0 MB)\n",
            "\u001b[K     |████████████████████████████████| 4.0 MB 41.2 MB/s \n",
            "\u001b[?25hRequirement already satisfied: cffi>=1.12 in /usr/local/lib/python3.7/dist-packages (from cryptography>=1.3->requests-ntlm>=1.1.0->qiskit-ibmq-provider==0.19.2->qiskit) (1.15.1)\n",
            "Requirement already satisfied: pycparser in /usr/local/lib/python3.7/dist-packages (from cffi>=1.12->cryptography>=1.3->requests-ntlm>=1.1.0->qiskit-ibmq-provider==0.19.2->qiskit) (2.21)\n",
            "Collecting rustworkx==0.12.1\n",
            "  Downloading rustworkx-0.12.1-cp37-cp37m-manylinux_2_17_x86_64.manylinux2014_x86_64.whl (1.9 MB)\n",
            "\u001b[K     |████████████████████████████████| 1.9 MB 49.2 MB/s \n",
            "\u001b[?25hCollecting pbr!=2.1.0,>=2.0.0\n",
            "  Downloading pbr-5.11.0-py2.py3-none-any.whl (112 kB)\n",
            "\u001b[K     |████████████████████████████████| 112 kB 16.3 MB/s \n",
            "\u001b[?25hRequirement already satisfied: mpmath>=0.19 in /usr/local/lib/python3.7/dist-packages (from sympy>=1.3->qiskit-terra==0.22.3->qiskit) (1.2.1)\n",
            "Building wheels for collected packages: qiskit\n",
            "  Building wheel for qiskit (setup.py) ... \u001b[?25l\u001b[?25hdone\n",
            "  Created wheel for qiskit: filename=qiskit-0.39.3-py3-none-any.whl size=12262 sha256=7a4c904eee7b6abcc8225c87c3e4ba047fd58226f7df19dfd41c45b2c6d1d8d0\n",
            "  Stored in directory: /root/.cache/pip/wheels/b1/36/b2/6eb4e6a961c404dce1da09f558c3d69f2bb7eea75e253c0890\n",
            "Successfully built qiskit\n",
            "Installing collected packages: rustworkx, pbr, tweedledum, symengine, stevedore, shared-memory38, retworkx, ply, ntlm-auth, cryptography, websockets, websocket-client, requests-ntlm, qiskit-terra, qiskit-ibmq-provider, qiskit-aer, qiskit\n",
            "Successfully installed cryptography-38.0.4 ntlm-auth-1.5.0 pbr-5.11.0 ply-3.11 qiskit-0.39.3 qiskit-aer-0.11.1 qiskit-ibmq-provider-0.19.2 qiskit-terra-0.22.3 requests-ntlm-1.1.0 retworkx-0.12.1 rustworkx-0.12.1 shared-memory38-0.1.2 stevedore-3.5.2 symengine-0.9.2 tweedledum-1.1.1 websocket-client-1.4.2 websockets-10.4\n",
            "Looking in indexes: https://pypi.org/simple, https://us-python.pkg.dev/colab-wheels/public/simple/\n",
            "Requirement already satisfied: qiskit[visualization] in /usr/local/lib/python3.7/dist-packages (0.39.3)\n",
            "Requirement already satisfied: qiskit-aer==0.11.1 in /usr/local/lib/python3.7/dist-packages (from qiskit[visualization]) (0.11.1)\n",
            "Requirement already satisfied: qiskit-terra==0.22.3 in /usr/local/lib/python3.7/dist-packages (from qiskit[visualization]) (0.22.3)\n",
            "Requirement already satisfied: qiskit-ibmq-provider==0.19.2 in /usr/local/lib/python3.7/dist-packages (from qiskit[visualization]) (0.19.2)\n",
            "Collecting pylatexenc>=1.4\n",
            "  Downloading pylatexenc-2.10.tar.gz (162 kB)\n",
            "\u001b[K     |████████████████████████████████| 162 kB 5.0 MB/s \n",
            "\u001b[?25hRequirement already satisfied: ipywidgets>=7.3.0 in /usr/local/lib/python3.7/dist-packages (from qiskit[visualization]) (7.7.1)\n",
            "Requirement already satisfied: pydot in /usr/local/lib/python3.7/dist-packages (from qiskit[visualization]) (1.3.0)\n",
            "Requirement already satisfied: matplotlib>=2.1 in /usr/local/lib/python3.7/dist-packages (from qiskit[visualization]) (3.2.2)\n",
            "Requirement already satisfied: seaborn>=0.9.0 in /usr/local/lib/python3.7/dist-packages (from qiskit[visualization]) (0.11.2)\n",
            "Requirement already satisfied: pygments>=2.4 in /usr/local/lib/python3.7/dist-packages (from qiskit[visualization]) (2.6.1)\n",
            "Requirement already satisfied: pillow>=4.2.1 in /usr/local/lib/python3.7/dist-packages (from qiskit[visualization]) (7.1.2)\n",
            "Requirement already satisfied: scipy>=1.0 in /usr/local/lib/python3.7/dist-packages (from qiskit-aer==0.11.1->qiskit[visualization]) (1.7.3)\n",
            "Requirement already satisfied: numpy>=1.16.3 in /usr/local/lib/python3.7/dist-packages (from qiskit-aer==0.11.1->qiskit[visualization]) (1.21.6)\n",
            "Requirement already satisfied: urllib3>=1.21.1 in /usr/local/lib/python3.7/dist-packages (from qiskit-ibmq-provider==0.19.2->qiskit[visualization]) (1.24.3)\n",
            "Requirement already satisfied: requests>=2.19 in /usr/local/lib/python3.7/dist-packages (from qiskit-ibmq-provider==0.19.2->qiskit[visualization]) (2.23.0)\n",
            "Requirement already satisfied: python-dateutil>=2.8.0 in /usr/local/lib/python3.7/dist-packages (from qiskit-ibmq-provider==0.19.2->qiskit[visualization]) (2.8.2)\n",
            "Requirement already satisfied: websockets>=10.0 in /usr/local/lib/python3.7/dist-packages (from qiskit-ibmq-provider==0.19.2->qiskit[visualization]) (10.4)\n",
            "Requirement already satisfied: websocket-client>=1.0.1 in /usr/local/lib/python3.7/dist-packages (from qiskit-ibmq-provider==0.19.2->qiskit[visualization]) (1.4.2)\n",
            "Requirement already satisfied: requests-ntlm>=1.1.0 in /usr/local/lib/python3.7/dist-packages (from qiskit-ibmq-provider==0.19.2->qiskit[visualization]) (1.1.0)\n",
            "Requirement already satisfied: importlib-metadata<5.0 in /usr/local/lib/python3.7/dist-packages (from qiskit-terra==0.22.3->qiskit[visualization]) (4.13.0)\n",
            "Requirement already satisfied: retworkx>=0.11.0 in /usr/local/lib/python3.7/dist-packages (from qiskit-terra==0.22.3->qiskit[visualization]) (0.12.1)\n",
            "Requirement already satisfied: stevedore>=3.0.0 in /usr/local/lib/python3.7/dist-packages (from qiskit-terra==0.22.3->qiskit[visualization]) (3.5.2)\n",
            "Requirement already satisfied: dill>=0.3 in /usr/local/lib/python3.7/dist-packages (from qiskit-terra==0.22.3->qiskit[visualization]) (0.3.6)\n",
            "Requirement already satisfied: tweedledum<2.0,>=1.1 in /usr/local/lib/python3.7/dist-packages (from qiskit-terra==0.22.3->qiskit[visualization]) (1.1.1)\n",
            "Requirement already satisfied: shared-memory38 in /usr/local/lib/python3.7/dist-packages (from qiskit-terra==0.22.3->qiskit[visualization]) (0.1.2)\n",
            "Requirement already satisfied: psutil>=5 in /usr/local/lib/python3.7/dist-packages (from qiskit-terra==0.22.3->qiskit[visualization]) (5.4.8)\n",
            "Requirement already satisfied: ply>=3.10 in /usr/local/lib/python3.7/dist-packages (from qiskit-terra==0.22.3->qiskit[visualization]) (3.11)\n",
            "Requirement already satisfied: typing-extensions in /usr/local/lib/python3.7/dist-packages (from qiskit-terra==0.22.3->qiskit[visualization]) (4.1.1)\n",
            "Requirement already satisfied: sympy>=1.3 in /usr/local/lib/python3.7/dist-packages (from qiskit-terra==0.22.3->qiskit[visualization]) (1.7.1)\n",
            "Requirement already satisfied: symengine>=0.9 in /usr/local/lib/python3.7/dist-packages (from qiskit-terra==0.22.3->qiskit[visualization]) (0.9.2)\n",
            "Requirement already satisfied: zipp>=0.5 in /usr/local/lib/python3.7/dist-packages (from importlib-metadata<5.0->qiskit-terra==0.22.3->qiskit[visualization]) (3.10.0)\n",
            "Requirement already satisfied: widgetsnbextension~=3.6.0 in /usr/local/lib/python3.7/dist-packages (from ipywidgets>=7.3.0->qiskit[visualization]) (3.6.1)\n",
            "Requirement already satisfied: jupyterlab-widgets>=1.0.0 in /usr/local/lib/python3.7/dist-packages (from ipywidgets>=7.3.0->qiskit[visualization]) (3.0.3)\n",
            "Requirement already satisfied: ipython-genutils~=0.2.0 in /usr/local/lib/python3.7/dist-packages (from ipywidgets>=7.3.0->qiskit[visualization]) (0.2.0)\n",
            "Requirement already satisfied: ipykernel>=4.5.1 in /usr/local/lib/python3.7/dist-packages (from ipywidgets>=7.3.0->qiskit[visualization]) (5.3.4)\n",
            "Requirement already satisfied: ipython>=4.0.0 in /usr/local/lib/python3.7/dist-packages (from ipywidgets>=7.3.0->qiskit[visualization]) (7.9.0)\n",
            "Requirement already satisfied: traitlets>=4.3.1 in /usr/local/lib/python3.7/dist-packages (from ipywidgets>=7.3.0->qiskit[visualization]) (5.1.1)\n",
            "Requirement already satisfied: jupyter-client in /usr/local/lib/python3.7/dist-packages (from ipykernel>=4.5.1->ipywidgets>=7.3.0->qiskit[visualization]) (6.1.12)\n",
            "Requirement already satisfied: tornado>=4.2 in /usr/local/lib/python3.7/dist-packages (from ipykernel>=4.5.1->ipywidgets>=7.3.0->qiskit[visualization]) (6.0.4)\n",
            "Requirement already satisfied: pexpect in /usr/local/lib/python3.7/dist-packages (from ipython>=4.0.0->ipywidgets>=7.3.0->qiskit[visualization]) (4.8.0)\n",
            "Requirement already satisfied: pickleshare in /usr/local/lib/python3.7/dist-packages (from ipython>=4.0.0->ipywidgets>=7.3.0->qiskit[visualization]) (0.7.5)\n",
            "Requirement already satisfied: backcall in /usr/local/lib/python3.7/dist-packages (from ipython>=4.0.0->ipywidgets>=7.3.0->qiskit[visualization]) (0.2.0)\n",
            "Requirement already satisfied: decorator in /usr/local/lib/python3.7/dist-packages (from ipython>=4.0.0->ipywidgets>=7.3.0->qiskit[visualization]) (4.4.2)\n",
            "Requirement already satisfied: setuptools>=18.5 in /usr/local/lib/python3.7/dist-packages (from ipython>=4.0.0->ipywidgets>=7.3.0->qiskit[visualization]) (57.4.0)\n",
            "Collecting jedi>=0.10\n",
            "  Downloading jedi-0.18.2-py2.py3-none-any.whl (1.6 MB)\n",
            "\u001b[K     |████████████████████████████████| 1.6 MB 31.0 MB/s \n",
            "\u001b[?25hRequirement already satisfied: prompt-toolkit<2.1.0,>=2.0.0 in /usr/local/lib/python3.7/dist-packages (from ipython>=4.0.0->ipywidgets>=7.3.0->qiskit[visualization]) (2.0.10)\n",
            "Requirement already satisfied: parso<0.9.0,>=0.8.0 in /usr/local/lib/python3.7/dist-packages (from jedi>=0.10->ipython>=4.0.0->ipywidgets>=7.3.0->qiskit[visualization]) (0.8.3)\n",
            "Requirement already satisfied: pyparsing!=2.0.4,!=2.1.2,!=2.1.6,>=2.0.1 in /usr/local/lib/python3.7/dist-packages (from matplotlib>=2.1->qiskit[visualization]) (3.0.9)\n",
            "Requirement already satisfied: cycler>=0.10 in /usr/local/lib/python3.7/dist-packages (from matplotlib>=2.1->qiskit[visualization]) (0.11.0)\n",
            "Requirement already satisfied: kiwisolver>=1.0.1 in /usr/local/lib/python3.7/dist-packages (from matplotlib>=2.1->qiskit[visualization]) (1.4.4)\n",
            "Requirement already satisfied: six>=1.9.0 in /usr/local/lib/python3.7/dist-packages (from prompt-toolkit<2.1.0,>=2.0.0->ipython>=4.0.0->ipywidgets>=7.3.0->qiskit[visualization]) (1.15.0)\n",
            "Requirement already satisfied: wcwidth in /usr/local/lib/python3.7/dist-packages (from prompt-toolkit<2.1.0,>=2.0.0->ipython>=4.0.0->ipywidgets>=7.3.0->qiskit[visualization]) (0.2.5)\n",
            "Requirement already satisfied: idna<3,>=2.5 in /usr/local/lib/python3.7/dist-packages (from requests>=2.19->qiskit-ibmq-provider==0.19.2->qiskit[visualization]) (2.10)\n",
            "Requirement already satisfied: certifi>=2017.4.17 in /usr/local/lib/python3.7/dist-packages (from requests>=2.19->qiskit-ibmq-provider==0.19.2->qiskit[visualization]) (2022.9.24)\n",
            "Requirement already satisfied: chardet<4,>=3.0.2 in /usr/local/lib/python3.7/dist-packages (from requests>=2.19->qiskit-ibmq-provider==0.19.2->qiskit[visualization]) (3.0.4)\n",
            "Requirement already satisfied: cryptography>=1.3 in /usr/local/lib/python3.7/dist-packages (from requests-ntlm>=1.1.0->qiskit-ibmq-provider==0.19.2->qiskit[visualization]) (38.0.4)\n",
            "Requirement already satisfied: ntlm-auth>=1.0.2 in /usr/local/lib/python3.7/dist-packages (from requests-ntlm>=1.1.0->qiskit-ibmq-provider==0.19.2->qiskit[visualization]) (1.5.0)\n",
            "Requirement already satisfied: cffi>=1.12 in /usr/local/lib/python3.7/dist-packages (from cryptography>=1.3->requests-ntlm>=1.1.0->qiskit-ibmq-provider==0.19.2->qiskit[visualization]) (1.15.1)\n",
            "Requirement already satisfied: pycparser in /usr/local/lib/python3.7/dist-packages (from cffi>=1.12->cryptography>=1.3->requests-ntlm>=1.1.0->qiskit-ibmq-provider==0.19.2->qiskit[visualization]) (2.21)\n",
            "Requirement already satisfied: rustworkx==0.12.1 in /usr/local/lib/python3.7/dist-packages (from retworkx>=0.11.0->qiskit-terra==0.22.3->qiskit[visualization]) (0.12.1)\n",
            "Requirement already satisfied: pandas>=0.23 in /usr/local/lib/python3.7/dist-packages (from seaborn>=0.9.0->qiskit[visualization]) (1.3.5)\n",
            "Requirement already satisfied: pytz>=2017.3 in /usr/local/lib/python3.7/dist-packages (from pandas>=0.23->seaborn>=0.9.0->qiskit[visualization]) (2022.6)\n",
            "Requirement already satisfied: pbr!=2.1.0,>=2.0.0 in /usr/local/lib/python3.7/dist-packages (from stevedore>=3.0.0->qiskit-terra==0.22.3->qiskit[visualization]) (5.11.0)\n",
            "Requirement already satisfied: mpmath>=0.19 in /usr/local/lib/python3.7/dist-packages (from sympy>=1.3->qiskit-terra==0.22.3->qiskit[visualization]) (1.2.1)\n",
            "Requirement already satisfied: notebook>=4.4.1 in /usr/local/lib/python3.7/dist-packages (from widgetsnbextension~=3.6.0->ipywidgets>=7.3.0->qiskit[visualization]) (5.7.16)\n",
            "Requirement already satisfied: jupyter-core>=4.4.0 in /usr/local/lib/python3.7/dist-packages (from notebook>=4.4.1->widgetsnbextension~=3.6.0->ipywidgets>=7.3.0->qiskit[visualization]) (4.11.2)\n",
            "Requirement already satisfied: terminado>=0.8.1 in /usr/local/lib/python3.7/dist-packages (from notebook>=4.4.1->widgetsnbextension~=3.6.0->ipywidgets>=7.3.0->qiskit[visualization]) (0.13.3)\n",
            "Requirement already satisfied: jinja2<=3.0.0 in /usr/local/lib/python3.7/dist-packages (from notebook>=4.4.1->widgetsnbextension~=3.6.0->ipywidgets>=7.3.0->qiskit[visualization]) (2.11.3)\n",
            "Requirement already satisfied: prometheus-client in /usr/local/lib/python3.7/dist-packages (from notebook>=4.4.1->widgetsnbextension~=3.6.0->ipywidgets>=7.3.0->qiskit[visualization]) (0.15.0)\n",
            "Requirement already satisfied: pyzmq>=17 in /usr/local/lib/python3.7/dist-packages (from notebook>=4.4.1->widgetsnbextension~=3.6.0->ipywidgets>=7.3.0->qiskit[visualization]) (23.2.1)\n",
            "Requirement already satisfied: nbformat in /usr/local/lib/python3.7/dist-packages (from notebook>=4.4.1->widgetsnbextension~=3.6.0->ipywidgets>=7.3.0->qiskit[visualization]) (5.7.0)\n",
            "Requirement already satisfied: Send2Trash in /usr/local/lib/python3.7/dist-packages (from notebook>=4.4.1->widgetsnbextension~=3.6.0->ipywidgets>=7.3.0->qiskit[visualization]) (1.8.0)\n",
            "Requirement already satisfied: nbconvert<6.0 in /usr/local/lib/python3.7/dist-packages (from notebook>=4.4.1->widgetsnbextension~=3.6.0->ipywidgets>=7.3.0->qiskit[visualization]) (5.6.1)\n",
            "Requirement already satisfied: MarkupSafe>=0.23 in /usr/local/lib/python3.7/dist-packages (from jinja2<=3.0.0->notebook>=4.4.1->widgetsnbextension~=3.6.0->ipywidgets>=7.3.0->qiskit[visualization]) (2.0.1)\n",
            "Requirement already satisfied: mistune<2,>=0.8.1 in /usr/local/lib/python3.7/dist-packages (from nbconvert<6.0->notebook>=4.4.1->widgetsnbextension~=3.6.0->ipywidgets>=7.3.0->qiskit[visualization]) (0.8.4)\n",
            "Requirement already satisfied: defusedxml in /usr/local/lib/python3.7/dist-packages (from nbconvert<6.0->notebook>=4.4.1->widgetsnbextension~=3.6.0->ipywidgets>=7.3.0->qiskit[visualization]) (0.7.1)\n",
            "Requirement already satisfied: entrypoints>=0.2.2 in /usr/local/lib/python3.7/dist-packages (from nbconvert<6.0->notebook>=4.4.1->widgetsnbextension~=3.6.0->ipywidgets>=7.3.0->qiskit[visualization]) (0.4)\n",
            "Requirement already satisfied: testpath in /usr/local/lib/python3.7/dist-packages (from nbconvert<6.0->notebook>=4.4.1->widgetsnbextension~=3.6.0->ipywidgets>=7.3.0->qiskit[visualization]) (0.6.0)\n",
            "Requirement already satisfied: pandocfilters>=1.4.1 in /usr/local/lib/python3.7/dist-packages (from nbconvert<6.0->notebook>=4.4.1->widgetsnbextension~=3.6.0->ipywidgets>=7.3.0->qiskit[visualization]) (1.5.0)\n",
            "Requirement already satisfied: bleach in /usr/local/lib/python3.7/dist-packages (from nbconvert<6.0->notebook>=4.4.1->widgetsnbextension~=3.6.0->ipywidgets>=7.3.0->qiskit[visualization]) (5.0.1)\n",
            "Requirement already satisfied: jsonschema>=2.6 in /usr/local/lib/python3.7/dist-packages (from nbformat->notebook>=4.4.1->widgetsnbextension~=3.6.0->ipywidgets>=7.3.0->qiskit[visualization]) (4.3.3)\n",
            "Requirement already satisfied: fastjsonschema in /usr/local/lib/python3.7/dist-packages (from nbformat->notebook>=4.4.1->widgetsnbextension~=3.6.0->ipywidgets>=7.3.0->qiskit[visualization]) (2.16.2)\n",
            "Requirement already satisfied: pyrsistent!=0.17.0,!=0.17.1,!=0.17.2,>=0.14.0 in /usr/local/lib/python3.7/dist-packages (from jsonschema>=2.6->nbformat->notebook>=4.4.1->widgetsnbextension~=3.6.0->ipywidgets>=7.3.0->qiskit[visualization]) (0.19.2)\n",
            "Requirement already satisfied: attrs>=17.4.0 in /usr/local/lib/python3.7/dist-packages (from jsonschema>=2.6->nbformat->notebook>=4.4.1->widgetsnbextension~=3.6.0->ipywidgets>=7.3.0->qiskit[visualization]) (22.1.0)\n",
            "Requirement already satisfied: importlib-resources>=1.4.0 in /usr/local/lib/python3.7/dist-packages (from jsonschema>=2.6->nbformat->notebook>=4.4.1->widgetsnbextension~=3.6.0->ipywidgets>=7.3.0->qiskit[visualization]) (5.10.0)\n",
            "Requirement already satisfied: ptyprocess in /usr/local/lib/python3.7/dist-packages (from terminado>=0.8.1->notebook>=4.4.1->widgetsnbextension~=3.6.0->ipywidgets>=7.3.0->qiskit[visualization]) (0.7.0)\n",
            "Requirement already satisfied: webencodings in /usr/local/lib/python3.7/dist-packages (from bleach->nbconvert<6.0->notebook>=4.4.1->widgetsnbextension~=3.6.0->ipywidgets>=7.3.0->qiskit[visualization]) (0.5.1)\n",
            "Building wheels for collected packages: pylatexenc\n",
            "  Building wheel for pylatexenc (setup.py) ... \u001b[?25l\u001b[?25hdone\n",
            "  Created wheel for pylatexenc: filename=pylatexenc-2.10-py3-none-any.whl size=136833 sha256=e3bc1c4cf57216832e1ab54783a39b177fbae59960bf21aebbcb8935b5aab5e2\n",
            "  Stored in directory: /root/.cache/pip/wheels/f1/8a/f5/33ee79d4473eb201b519fa40f989b842e373237395a3421f52\n",
            "Successfully built pylatexenc\n",
            "Installing collected packages: jedi, pylatexenc\n",
            "Successfully installed jedi-0.18.2 pylatexenc-2.10\n"
          ]
        }
      ],
      "source": [
        "!pip install qiskit\n",
        "!pip install qiskit[visualization]"
      ]
    },
    {
      "cell_type": "code",
      "source": [
        "from qiskit import QuantumRegister, ClassicalRegister, QuantumCircuit\n",
        "import numpy as np\n",
        "from qiskit import QuantumCircuit, transpile\n",
        "from qiskit.providers.aer import AerSimulator\n",
        "from qiskit.visualization import plot_histogram\n",
        "from numpy import pi\n",
        "\n",
        "simulator = AerSimulator()\n",
        "\n",
        "\n",
        "qreg_q = QuantumRegister(2, 'q')\n",
        "creg_c = ClassicalRegister(4, 'c')\n",
        "circuit = QuantumCircuit(qreg_q, creg_c)\n",
        "\n",
        "circuit.reset(qreg_q[0])\n",
        "circuit.reset(qreg_q[1])\n",
        "circuit.x(qreg_q[1])\n",
        "circuit.h(qreg_q[0])\n",
        "circuit.h(qreg_q[1])\n",
        "circuit.barrier(qreg_q[0])\n",
        "circuit.barrier(qreg_q[1])\n",
        "circuit.cx(qreg_q[0], qreg_q[1])\n",
        "circuit.barrier(qreg_q[0])\n",
        "circuit.barrier(qreg_q[1])\n",
        "circuit.h(qreg_q[0])\n",
        "circuit.measure(qreg_q[0], creg_c[0])"
      ],
      "metadata": {
        "colab": {
          "base_uri": "https://localhost:8080/"
        },
        "id": "pcgOgnvbfdQf",
        "outputId": "e1347237-d26e-4498-908e-8230a0acc579"
      },
      "execution_count": null,
      "outputs": [
        {
          "output_type": "execute_result",
          "data": {
            "text/plain": [
              "<qiskit.circuit.instructionset.InstructionSet at 0x7fb7816cae10>"
            ]
          },
          "metadata": {},
          "execution_count": 10
        }
      ]
    },
    {
      "cell_type": "code",
      "source": [
        "circuit.draw()"
      ],
      "metadata": {
        "colab": {
          "base_uri": "https://localhost:8080/",
          "height": 125
        },
        "id": "CM6KQ311fe40",
        "outputId": "ce752430-2928-4023-cf7d-90f92bd0a8d5"
      },
      "execution_count": null,
      "outputs": [
        {
          "output_type": "execute_result",
          "data": {
            "text/plain": [
              "          ┌───┐  ░           ░ ┌───┐┌─┐\n",
              "q_0: ─|0>─┤ H ├──░───────■───░─┤ H ├┤M├\n",
              "          ├───┤┌───┐ ░ ┌─┴─┐ ░ └───┘└╥┘\n",
              "q_1: ─|0>─┤ X ├┤ H ├─░─┤ X ├─░───────╫─\n",
              "          └───┘└───┘ ░ └───┘ ░       ║ \n",
              "c: 4/════════════════════════════════╩═\n",
              "                                     0 "
            ],
            "text/html": [
              "<pre style=\"word-wrap: normal;white-space: pre;background: #fff0;line-height: 1.1;font-family: &quot;Courier New&quot;,Courier,monospace\">          ┌───┐  ░           ░ ┌───┐┌─┐\n",
              "q_0: ─|0>─┤ H ├──░───────■───░─┤ H ├┤M├\n",
              "          ├───┤┌───┐ ░ ┌─┴─┐ ░ └───┘└╥┘\n",
              "q_1: ─|0>─┤ X ├┤ H ├─░─┤ X ├─░───────╫─\n",
              "          └───┘└───┘ ░ └───┘ ░       ║ \n",
              "c: 4/════════════════════════════════╩═\n",
              "                                     0 </pre>"
            ]
          },
          "metadata": {},
          "execution_count": 4
        }
      ]
    },
    {
      "cell_type": "markdown",
      "source": [
        "![Screen Shot 2022-11-28 at 10.40.27 PM.png](data:image/png;base64,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)"
      ],
      "metadata": {
        "id": "cT810w5XiMIL"
      }
    },
    {
      "cell_type": "markdown",
      "source": [],
      "metadata": {
        "id": "_MGLdrIjiS2j"
      }
    }
  ]
}